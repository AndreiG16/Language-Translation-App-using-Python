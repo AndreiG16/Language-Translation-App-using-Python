{
  "cells": [
    {
      "cell_type": "markdown",
      "metadata": {
        "id": "1ccd5b6e"
      },
      "source": [
        "1. Install Dependencies"
      ],
      "id": "1ccd5b6e"
    },
    {
      "cell_type": "code",
      "execution_count": null,
      "metadata": {
        "id": "8abc312d",
        "collapsed": true
      },
      "outputs": [],
      "source": [
        "!pip install torch torchvision torchaudio"
      ],
      "id": "8abc312d"
    },
    {
      "cell_type": "code",
      "execution_count": null,
      "metadata": {
        "collapsed": true,
        "id": "4b469d5f"
      },
      "outputs": [],
      "source": [
        "!pip install transformers ipywidgets gradio --upgrade"
      ],
      "id": "4b469d5f"
    },
    {
      "cell_type": "code",
      "execution_count": 11,
      "metadata": {
        "id": "EL1z3WkkHC4-",
        "collapsed": true,
        "colab": {
          "base_uri": "https://localhost:8080/"
        },
        "outputId": "6c560594-3ce9-4df4-c045-d903e1e64e6c"
      },
      "outputs": [
        {
          "output_type": "stream",
          "name": "stdout",
          "text": [
            "Requirement already satisfied: sentencepiece in /usr/local/lib/python3.10/dist-packages (0.1.99)\n"
          ]
        }
      ],
      "source": [
        "!pip install sentencepiece"
      ],
      "id": "EL1z3WkkHC4-"
    },
    {
      "cell_type": "code",
      "source": [
        "pip install sacremoses"
      ],
      "metadata": {
        "collapsed": true,
        "id": "TWE8VplrTWO4"
      },
      "execution_count": null,
      "outputs": [],
      "id": "TWE8VplrTWO4"
    },
    {
      "cell_type": "markdown",
      "metadata": {
        "id": "322e8d84"
      },
      "source": [
        "2. Load Translation Models and Define Functions"
      ],
      "id": "322e8d84"
    },
    {
      "cell_type": "code",
      "source": [
        "import gradio as gr\n",
        "from transformers import pipeline"
      ],
      "metadata": {
        "id": "eypBCj21yd91"
      },
      "execution_count": 13,
      "outputs": [],
      "id": "eypBCj21yd91"
    },
    {
      "cell_type": "code",
      "execution_count": null,
      "metadata": {
        "id": "91de93b9",
        "collapsed": true
      },
      "outputs": [],
      "source": [
        "translation_pipelines = {\n",
        "    \"German\": pipeline(task=\"translation\", model=\"Helsinki-NLP/opus-mt-en-de\"),\n",
        "    \"French\": pipeline(task=\"translation\", model=\"Helsinki-NLP/opus-mt-en-fr\"),\n",
        "    \"Romanian\": pipeline(task=\"translation\", model=\"Helsinki-NLP/opus-mt-en-ro\"),\n",
        "}\n",
        "\n",
        "def translate_to_german(text):\n",
        "    try:\n",
        "        translation_result = translation_pipelines[\"German\"](text)\n",
        "        return translation_result[0]['translation_text']\n",
        "    except Exception as e:\n",
        "        return f\"Error during translation: {str(e)}\"\n",
        "\n",
        "def translate_to_french(text):\n",
        "    try:\n",
        "        translation_result = translation_pipelines[\"French\"](text)\n",
        "        return translation_result[0]['translation_text']\n",
        "    except Exception as e:\n",
        "        return f\"Error during translation: {str(e)}\"\n",
        "\n",
        "def translate_to_romanian(text):\n",
        "    try:\n",
        "        translation_result = translation_pipelines[\"Romanian\"](text)\n",
        "        return translation_result[0]['translation_text']\n",
        "    except Exception as e:\n",
        "        return f\"Error during translation: {str(e)}\"\n",
        "\n",
        "def translate_transformers(text, target_language):\n",
        "    if target_language == \"German\":\n",
        "        return translate_to_german(text)\n",
        "    elif target_language == \"French\":\n",
        "        return translate_to_french(text)\n",
        "    elif target_language == \"Romanian\":\n",
        "        return translate_to_romanian(text)\n",
        "    else:\n",
        "        return \"Invalid target language\""
      ],
      "id": "91de93b9"
    },
    {
      "cell_type": "markdown",
      "metadata": {
        "id": "214f092c"
      },
      "source": [
        "**3**. Create Gradio Function and Interface"
      ],
      "id": "214f092c"
    },
    {
      "cell_type": "code",
      "execution_count": 15,
      "metadata": {
        "id": "78b28c60"
      },
      "outputs": [],
      "source": [
        "languages = [(\"German\", \"German\"), (\"French\", \"French\"), (\"Romanian\", \"Romanian\")]\n",
        "\n",
        "interface = gr.Interface(\n",
        "    fn=translate_transformers,\n",
        "    inputs=[gr.Textbox(lines=2, placeholder='Text to translate'), gr.Dropdown(languages, label=\"Target Language\")],\n",
        "    outputs=gr.Textbox(),  # Use Gradio Textbox for output\n",
        "    live=True,\n",
        "    title='Language Translation App',\n",
        "    description='Translate text from English to the selected language.'\n",
        ")"
      ],
      "id": "78b28c60"
    },
    {
      "cell_type": "code",
      "execution_count": 16,
      "metadata": {
        "id": "6a64d6a3",
        "colab": {
          "base_uri": "https://localhost:8080/",
          "height": 643
        },
        "outputId": "9aabbf1a-2ee8-4dda-c510-cadf89c43c25"
      },
      "outputs": [
        {
          "output_type": "stream",
          "name": "stdout",
          "text": [
            "Setting queue=True in a Colab notebook requires sharing enabled. Setting `share=True` (you can turn this off by setting `share=False` in `launch()` explicitly).\n",
            "\n",
            "Colab notebook detected. To show errors in colab notebook, set debug=True in launch()\n",
            "Running on public URL: https://1a299f85036f4470ad.gradio.live\n",
            "\n",
            "This share link expires in 72 hours. For free permanent hosting and GPU upgrades, run `gradio deploy` from Terminal to deploy to Spaces (https://huggingface.co/spaces)\n"
          ]
        },
        {
          "output_type": "display_data",
          "data": {
            "text/plain": [
              "<IPython.core.display.HTML object>"
            ],
            "text/html": [
              "<div><iframe src=\"https://1a299f85036f4470ad.gradio.live\" width=\"100%\" height=\"500\" allow=\"autoplay; camera; microphone; clipboard-read; clipboard-write;\" frameborder=\"0\" allowfullscreen></iframe></div>"
            ]
          },
          "metadata": {}
        },
        {
          "output_type": "execute_result",
          "data": {
            "text/plain": []
          },
          "metadata": {},
          "execution_count": 16
        }
      ],
      "source": [
        "interface.launch()"
      ],
      "id": "6a64d6a3"
    }
  ],
  "metadata": {
    "colab": {
      "provenance": []
    },
    "kernelspec": {
      "display_name": "Python 3 (ipykernel)",
      "language": "python",
      "name": "python3"
    },
    "language_info": {
      "codemirror_mode": {
        "name": "ipython",
        "version": 3
      },
      "file_extension": ".py",
      "mimetype": "text/x-python",
      "name": "python",
      "nbconvert_exporter": "python",
      "pygments_lexer": "ipython3",
      "version": "3.11.5"
    }
  },
  "nbformat": 4,
  "nbformat_minor": 5
}